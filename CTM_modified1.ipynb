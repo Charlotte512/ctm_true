{
 "cells": [
  {
   "cell_type": "code",
   "execution_count": 4,
   "id": "7cc47966530baf53",
   "metadata": {
    "ExecuteTime": {
     "end_time": "2024-03-30T16:33:02.216652Z",
     "start_time": "2024-03-30T16:33:02.126906Z"
    }
   },
   "outputs": [],
   "source": [
    "from math import exp \n",
    "import numpy as np\n",
    "from itertools import product\n",
    "import copy"
   ]
  },
  {
   "cell_type": "code",
   "execution_count": 98,
   "id": "294b7b4f8ebb976c",
   "metadata": {
    "ExecuteTime": {
     "end_time": "2024-03-31T03:34:55.348947Z",
     "start_time": "2024-03-31T03:34:55.342232Z"
    }
   },
   "outputs": [],
   "source": [
    "class Cell:\n",
    "    def __init__(self,car_num = 0, av_num = 0, length = 0.2 , q_max = 1600, f_speed = 40, dt = 10, jam_density = 240, av_lane = False,scale_down = 1):\n",
    "        \"\"\"\n",
    "        f_speed: km/h; length: km; jam_density: veh/km; q_max = veh/h\n",
    "        \"\"\"\n",
    "        self.car_num = car_num; self.av_num = av_num\n",
    "        if self.car_num == 0:\n",
    "            self.av_ratio = 0\n",
    "        else:\n",
    "            self.av_ratio = self.av_num/self.car_num\n",
    "\n",
    "        self.length = length; self.f_speed = f_speed; self.q_max = q_max*(1+0.5*self.av_ratio)\n",
    "        self.dt = dt; self.jam_density = jam_density*(1+0.5*self.av_ratio)\n",
    "        self.wave_speed = self.q_max/(self.jam_density-self.q_max/self.f_speed)\n",
    "        self.av_lane = av_lane; self.q_max = q_max*(1+0.5*self.av_ratio)\n",
    "        self.demand = 0; self.supply = 0; self.density = self.car_num/self.length\n",
    "        self.scale_down = scale_down; self.left_flow = 0\n",
    "        self.right_flow = 0; self.down_flow = 0\n",
    "        self.left_prob = 0; self.right_prob = 0\n",
    "        self.down_prob = 0; self.left_in = 0\n",
    "        self.right_in = 0; self.up_in = 0\n",
    "        self.exp_right_flow = 0 # 拟向右换道车辆数\n",
    "        self.exp_left_flow = 0 # 拟向左换道车辆数\n",
    "        self.exp_down_flow = 0 # 拟向下游的车辆数\n",
    "\n",
    "    def update_variable(self,left_num=200,right_num=300,down_num=200):\n",
    "        \"\"\"\n",
    "        :param left_num: 左侧元胞车辆数\n",
    "        :param right_num: 右侧元胞车辆数\n",
    "        :param down_num: 下游元胞车辆数\n",
    "        :return: \n",
    "        \"\"\"\n",
    "        beta1 = -0.4; beta2 = 5; beta3 = -0.1; beta4 = 1\n",
    "        self.density = self.car_num/self.length\n",
    "        self.supply = max(0, min(self.q_max,self.f_speed*self.density))*self.dt/3600 # 这个改动较大\n",
    "        self.demand = max(0, min(self.q_max,self.wave_speed*(self.jam_density-self.density)))*self.dt/3600\n",
    "\n",
    "    \n",
    "        left_utility = beta1*(self.car_num-left_num)+beta2\n",
    "        right_utility = beta1*(self.car_num-right_num) + beta2  \n",
    "        down_utility = beta3*(self.car_num-down_num)  + beta4 - 0.4*max(0,16-down_num)\n",
    "\n",
    "        self.left_prob = exp(-left_utility)/(exp(-left_utility)+exp(-right_utility)+exp(-down_utility))\n",
    "        self.right_prob = exp(-right_utility)/(exp(-left_utility)+exp(-right_utility)+exp(-down_utility))\n",
    "        self.down_prob =  exp(-down_utility)/(exp(-left_utility)+exp(-right_utility)+exp(-down_utility))\n",
    "        # print(self.down_prob)\n",
    "        self.exp_down_flow = self.down_prob*self.supply\n",
    "        self.exp_right_flow = self.right_prob*self.supply # 本车道拟向右换道车辆数\n",
    "        self.exp_left_flow = self.left_prob*self.supply # 本车道拟向右换道车辆数\n",
    "        \n",
    "        if self.av_lane:\n",
    "            self.right_prob = 1-self.av_ratio\n",
    "            self.down_prob = self.av_ratio\n",
    "\n",
    "\n",
    "    def update_car_num(self,up_out,down_demand,left_lane_up_out,left_lane_demand,right_lane_up_out,right_lane_demand,right_lane_exp_left_flow,left_lane_exp_right_flow,right_two_lane_exp_left_flow,left_two_lane_exp_right_flow,up_av_ratio, left_av_ratio, right_av_ratio):\n",
    "        \"\"\"\n",
    "        Args:\n",
    "            right_av_ratio: \n",
    "            up_out: 上游元胞想要出来的车辆数\n",
    "            down_demand: 下游元胞的需求\n",
    "            left_lane_up_out: 左侧上游想要直行的车辆数\n",
    "            left_lane_demand: 左侧元胞供给\n",
    "            right_lane_up_out: 右侧上游想要直行的车辆数\n",
    "            right_lane_demand: 右侧元胞供给\n",
    "            right_lane_exp_left_flow: 右侧想要变道的车辆数\n",
    "            left_lane_exp_right_flow: 左侧想要变道的车辆数\n",
    "            right_two_lane_exp_left_flow: 右侧第二个车道往右侧车道换道的车辆数\n",
    "            left_two_lane_exp_right_flow: 左侧第二个车道往左侧车道换道的车辆数\n",
    "            up_av_ratio: \n",
    "            left_av_ratio: \n",
    "\n",
    "        Returns:\n",
    "        \"\"\"\n",
    "        # 三个cell进来的车辆数 上游cell 左侧车道的cell 右侧车道的cell\n",
    "        self.up_in = min(self.demand,up_out) # 当前车道上游元胞向下走的车辆数\n",
    "        if right_lane_exp_left_flow+left_lane_exp_right_flow>0:          \n",
    "            self.right_in = min(right_lane_exp_left_flow/(right_lane_exp_left_flow+left_lane_exp_right_flow)*(self.demand-self.up_in), right_lane_exp_left_flow)\n",
    "            self.left_in = min(left_lane_exp_right_flow/(right_lane_exp_left_flow+left_lane_exp_right_flow)*(self.demand-self.up_in), left_lane_exp_right_flow)\n",
    "        else:\n",
    "            self.right_in = 0; self.left_in = 0\n",
    "       # 需要根据有多少车换道、直行到当前cell来确定换道对supply的影响；目的：体现出换道多交通的负效用\n",
    "        if self.right_in+self.left_in+self.up_in>0:\n",
    "            lc_ratio = (self.right_in+ self.left_in)/(self.right_in+self.left_in+self.up_in)\n",
    "        else:\n",
    "            lc_ratio = 0\n",
    "        self.demand = self.demand * (1-lc_ratio*0.2) # 举例子\n",
    "      # --------------------------------------------------------------------\n",
    "        \n",
    "        \n",
    "        right_up_in = min(right_lane_demand, right_lane_up_out) # 右侧车道元胞直行车辆数\n",
    "        left_up_in = min(left_lane_demand, left_lane_up_out) # 左侧车道元胞直行车辆数\n",
    "\n",
    "        # 本cell朝三个方向出去的车辆数\n",
    "        self.down_flow = min(down_demand,self.down_prob*self.car_num)\n",
    "        if self.exp_right_flow+right_two_lane_exp_left_flow >0:\n",
    "            self.right_flow = min(self.exp_right_flow/(self.exp_right_flow+right_two_lane_exp_left_flow)*(right_lane_demand-right_up_in) , self.exp_right_flow)\n",
    "        else:\n",
    "            self.right_flow = 0\n",
    "        \n",
    "        if self.exp_left_flow+left_two_lane_exp_right_flow > 0:\n",
    "            self.left_flow = min(self.exp_left_flow/(self.exp_left_flow+left_two_lane_exp_right_flow)*(left_lane_demand-left_up_in) , self.exp_left_flow)\n",
    "        else:\n",
    "            self.left_flow = 0\n",
    "            \n",
    "    \n",
    "    \n",
    "    # 更新该元胞内部车辆数\n",
    "        self.car_num = self.car_num + self.up_in + self.right_in + self.left_in - self.right_flow - self.down_flow - self.right_flow\n",
    "        if not self.av_lane:\n",
    "            self.av_num = (self.car_num-self.right_flow-self.down_flow-self.right_flow)*self.av_ratio + self.up_in*up_av_ratio + self.right_in*right_av_ratio + self.left_in*left_av_ratio \n",
    "        else:\n",
    "            self.av_num = (self.car_num-self.down_flow)*self.av_ratio + self.up_in*up_av_ratio + self.right_in\n",
    "\n",
    "        if self.car_num == 0:\n",
    "            self.av_ratio = 0\n",
    "        else:\n",
    "            self.av_ratio = self.av_num/self.car_num\n",
    "            \n",
    "        \n",
    "        self.wave_speed = self.q_max/(self.jam_density-self.q_max/self.f_speed)\n",
    "        self.q_max = self.q_max*(1+0.5*self.av_ratio)\n",
    "        # print(self.car_num)\n",
    "\n",
    "class source:\n",
    "    def __init__(self,car_num=30,q_max=1600,f_speed = 40,length = 0.2,dt = 10):\n",
    "            self.car_num = car_num\n",
    "            self.length = length\n",
    "            self.q_max = q_max\n",
    "            self.f_speed = f_speed\n",
    "            self.density = self.car_num/self.length\n",
    "            self.dt = dt\n",
    "            self.supply = max(0, min(self.q_max,self.f_speed*self.density))*self.dt/3600\n",
    "    def variable_update(self,input_flow,down_demand):\n",
    "            self.car_num = self.car_num + input_flow - min(self.supply, down_demand)\n",
    "            self.density = self.car_num/self.length\n",
    "            self.supply = max(0, min(self.q_max,self.f_speed*self.density))*self.dt/3600\n",
    "\n",
    "class sink:\n",
    "    def __init__(self):\n",
    "        self.car_num = 0\n",
    "        self.demand = 100000000000\n"
   ]
  },
  {
   "cell_type": "code",
   "outputs": [],
   "source": [
    "class Agent():\n",
    "    def __init__(self,lane_num, cell_num, ini_num, ini_action, sim_time_step,sys_time):\n",
    "        \"\"\"\n",
    "        :param lane_num: 研究的范围内多少条道路\n",
    "        :param cell_num: 研究范围内没条道路多少个cell\n",
    "        :param initial_num: 每一个cell一开始多少车辆数，比如我们仿真8:00-8:30，或者仿真8:30-9:00这个值不一样\n",
    "        :param initial_action: 这个是说的哪些segement是av dedicated lane\n",
    "        :param simulation_time: 仿真多少个时间步\n",
    "        \"\"\"\n",
    "        self.lane_num = lane_num\n",
    "        self.cell_num = cell_num\n",
    "        self.ini_num = ini_num\n",
    "        self.ini_action = ini_action\n",
    "        self.sim_time_step = sim_time_step\n",
    "        self.state1 = 0 # 这些状态自己定义哈\n",
    "        self.state2 = 0\n",
    "        self.state3 = 0\n",
    "        self.reward = 0 # reward自己定义\n",
    "        self.done = False # 是否结束\n",
    "        self.sys_time = sys_time\n",
    "        self.num_record = np.zeros([self.lane_num, self.cell_num,self.sim_time_step])\n",
    "        self.av_ratio_record  = np.zeros([self.lane_num, self.cell_num,self.sim_time_step])\n",
    "\n",
    "    def run(self):\n",
    "        global j, i\n",
    "        Road = [[[] for j in range(self.cell_num)] for i in range(self.lane_num)]\n",
    "        for i,j in product(range(self.lane_num),range(self.cell_num-2)):\n",
    "            Road[i][j+1] = Cell(car_num = ini_num[i][j],av_lane=self.ini_action[i][j])\n",
    "        for i in range(self.lane_num):\n",
    "            Road[i][0] = source(car_num=0)\n",
    "            Road[i][-1] = sink()\n",
    "\n",
    "        input = np.zeros(self.lane_num)\n",
    "\n",
    "        for t in range(self.sim_time_step):\n",
    "            Road_copy = Road\n",
    "\n",
    "            for _ in range(3):\n",
    "                if Road_copy[i][1].car_num <= 25:\n",
    "                    input[_] = np.random.poisson(25)\n",
    "                elif Road_copy[i][1].car_num <= 35:\n",
    "                    input[_] = np.random.poisson(35)\n",
    "                elif Road_copy[i][1].car_num <= 45:\n",
    "                    input[_] = np.random.poisson(45)\n",
    "\n",
    "            self.num_record[i][j][t] = Road[i][j].car_num\n",
    "            for i in range(self.lane_num):\n",
    "                for j in range(self.cell_num):\n",
    "                    if j == 0:\n",
    "                            Road[i][j].variable_update(input_flow = input[i],down_demand = Road[i][j+1].demand)\n",
    "                    elif j >= self.cell_num-1:\n",
    "                        pass\n",
    "                    else:\n",
    "                            if i == 0:\n",
    "                                Road[i][j].update_variable(left_num = 10000,\n",
    "                                                           right_num = Road_copy[i+1][j].car_num,\n",
    "                                                           down_num = Road_copy[i][j+1].car_num)\n",
    "                                if j == 1:#range(1,cell_num-1) 当j=1时，指向source，source只有supply\n",
    "                                    Road[i][j].update_car_num(up_out = Road_copy[i][j-1].supply,\n",
    "                                                              down_demand = Road_copy[i][j+1].demand,\n",
    "                                                              left_lane_up_out = 0,\n",
    "                                                              left_lane_demand = 0,\n",
    "                                                              right_lane_up_out = Road_copy[i+1][j-1].supply,\n",
    "                                                              right_lane_demand = Road_copy[i+1][j].demand,\n",
    "                                                              right_lane_exp_left_flow = Road_copy[i+1][j].exp_left_flow,\n",
    "                                                              left_lane_exp_right_flow = 0,\n",
    "                                                              right_two_lane_exp_left_flow = Road_copy[i+2][j].exp_left_flow,\n",
    "                                                              left_two_lane_exp_right_flow = 0,\n",
    "                                                              up_av_ratio = 0,\n",
    "                                                              left_av_ratio = 0,\n",
    "                                                              right_av_ratio = Road_copy[i+1][j].av_ratio)\n",
    "                                else:\n",
    "                                    Road[i][j].update_car_num(up_out = Road_copy[i][j-1].exp_down_flow,\n",
    "                                                              down_demand = Road_copy[i][j+1].demand,\n",
    "                                                              left_lane_up_out = 0,\n",
    "                                                              left_lane_demand = 0,\n",
    "                                                              right_lane_up_out = Road_copy[i+1][j-1].down_flow,\n",
    "                                                              right_lane_demand = Road_copy[i+1][j].demand,\n",
    "                                                              right_lane_exp_left_flow = Road_copy[i+1][j].exp_left_flow,\n",
    "                                                              left_lane_exp_right_flow = 0,\n",
    "                                                              right_two_lane_exp_left_flow = Road_copy[i+2][j].exp_left_flow,\n",
    "                                                              left_two_lane_exp_right_flow = 0,\n",
    "                                                              up_av_ratio = Road_copy[i][j-1].av_ratio,\n",
    "                                                              left_av_ratio = 0,\n",
    "                                                              right_av_ratio = Road_copy[i+1][j].av_ratio)\n",
    "                                self.num_record[i][j][t] = Road[i][j].car_num\n",
    "                            if i == 1:\n",
    "                                Road[i][j].update_variable(left_num = Road_copy[i-1][j].car_num,\n",
    "                                                           right_num = Road_copy[i+1][j].car_num,\n",
    "                                                           down_num = Road_copy[i][j+1].car_num)\n",
    "                                if j == 1:\n",
    "                                    Road[i][j].update_car_num(up_out = Road_copy[i][j-1].supply,\n",
    "                                                          down_demand = Road_copy[i][j+1].demand,\n",
    "                                                          left_lane_up_out = Road_copy[i-1][j-1].supply,\n",
    "                                                          left_lane_demand = Road_copy[i-1][j].demand,\n",
    "                                                          right_lane_up_out = Road_copy[i+1][j-1].supply,\n",
    "                                                          right_lane_demand = Road_copy[i+1][j].demand,\n",
    "                                                          right_lane_exp_left_flow = Road_copy[i+1][j].exp_left_flow,\n",
    "                                                          left_lane_exp_right_flow = Road_copy[i-1][j].exp_right_flow,\n",
    "                                                          right_two_lane_exp_left_flow = 0,\n",
    "                                                          left_two_lane_exp_right_flow = 0,\n",
    "                                                          up_av_ratio = 0,\n",
    "                                                          left_av_ratio = Road_copy[i-1][j].av_ratio,\n",
    "                                                          right_av_ratio = Road_copy[i+1][j].av_ratio)\n",
    "                                else:\n",
    "                                    Road[i][j].update_car_num(up_out = Road_copy[i][j-1].exp_down_flow,\n",
    "                                                              down_demand = Road_copy[i][j+1].demand,\n",
    "                                                              left_lane_up_out = Road_copy[i-1][j-1].down_flow,\n",
    "                                                              left_lane_demand = Road_copy[i-1][j].demand,\n",
    "                                                              right_lane_up_out = Road_copy[i+1][j-1].down_flow,\n",
    "                                                              right_lane_demand = Road_copy[i+1][j].demand,\n",
    "                                                              right_lane_exp_left_flow = Road_copy[i+1][j].exp_left_flow,\n",
    "                                                              left_lane_exp_right_flow = Road_copy[i-1][j].exp_right_flow,\n",
    "                                                              right_two_lane_exp_left_flow = 0,\n",
    "                                                              left_two_lane_exp_right_flow = 0,\n",
    "                                                              up_av_ratio = Road_copy[i][j-1].av_ratio,\n",
    "                                                              left_av_ratio = Road_copy[i-1][j].av_ratio,\n",
    "                                                              right_av_ratio = Road_copy[i+1][j].av_ratio)\n",
    "                                self.num_record[i][j][t] = Road[i][j].car_num\n",
    "                            if i == 2:\n",
    "                                Road[i][j].update_variable(left_num = Road_copy[i-1][j].car_num,\n",
    "                                                           right_num = 10000,\n",
    "                                                           down_num = Road_copy[i][j+1].car_num)\n",
    "                                if j == 1:\n",
    "                                    Road[i][j].update_car_num(up_out = Road_copy[i][j-1].supply,\n",
    "                                                              down_demand = Road_copy[i][j+1].demand,\n",
    "                                                              left_lane_up_out = Road_copy[i-1][j-1].supply,\n",
    "                                                              left_lane_demand = Road_copy[i-1][j].demand,\n",
    "                                                              right_lane_up_out = 0,\n",
    "                                                              right_lane_demand = 0,\n",
    "                                                              right_lane_exp_left_flow = 0,\n",
    "                                                              left_lane_exp_right_flow = Road_copy[i-1][j].exp_right_flow,\n",
    "                                                              right_two_lane_exp_left_flow = 0,\n",
    "                                                              left_two_lane_exp_right_flow = Road_copy[i-2][j].exp_right_flow,\n",
    "                                                              up_av_ratio = 0,\n",
    "                                                              left_av_ratio = Road_copy[i-1][j].av_ratio,\n",
    "                                                              right_av_ratio = 0)\n",
    "                                else:\n",
    "                                    Road[i][j].update_car_num(up_out = Road_copy[i][j-1].exp_down_flow,\n",
    "                                                              down_demand = Road_copy[i][j+1].demand,\n",
    "                                                              left_lane_up_out = Road_copy[i-1][j-1].down_flow,\n",
    "                                                              left_lane_demand = Road_copy[i-1][j].demand,\n",
    "                                                              right_lane_up_out = 0,\n",
    "                                                              right_lane_demand = 0,\n",
    "                                                              right_lane_exp_left_flow = 0,\n",
    "                                                              left_lane_exp_right_flow = Road_copy[i-1][j].exp_right_flow,\n",
    "                                                              right_two_lane_exp_left_flow = 0,\n",
    "                                                              left_two_lane_exp_right_flow = Road_copy[i-2][j].exp_right_flow,\n",
    "                                                              up_av_ratio = Road_copy[i][j-1].av_ratio,\n",
    "                                                              left_av_ratio = Road_copy[i-1][j].av_ratio,\n",
    "                                                              right_av_ratio = 0)\n",
    "                                self.num_record[i][j][t] = Road[i][j].car_num\n",
    "                            \n",
    "                            \n",
    "                             "
   ],
   "metadata": {
    "collapsed": false,
    "ExecuteTime": {
     "end_time": "2024-03-31T06:52:49.155243Z",
     "start_time": "2024-03-31T06:52:49.152695Z"
    }
   },
   "id": "e0cc8b2e35839cf9",
   "execution_count": 217
  },
  {
   "cell_type": "code",
   "outputs": [],
   "source": [
    "ini_num = np.random.randint(5,40 , size=(3, 100))\n",
    "ini_action = np.zeros([3,100])"
   ],
   "metadata": {
    "collapsed": false,
    "ExecuteTime": {
     "end_time": "2024-03-31T06:52:49.945690Z",
     "start_time": "2024-03-31T06:52:49.935602Z"
    }
   },
   "id": "2f3034fcdd78e17e",
   "execution_count": 218
  },
  {
   "cell_type": "code",
   "outputs": [
    {
     "data": {
      "text/plain": "array([[33,  6, 30, 37, 27, 32, 12, 36, 27, 36, 32, 14, 27,  6, 35, 33,\n        23, 39, 13, 15, 25, 10,  5, 36, 30, 35, 28, 29, 30, 12, 34, 15,\n        11,  6, 29, 17, 10, 24,  7, 13, 33, 33, 38, 18, 39, 32, 20, 14,\n        21, 26, 26, 33, 18, 19, 31, 16, 21, 24, 11, 36, 12,  5, 39, 17,\n        26, 37, 16, 30, 25, 24, 38, 34, 33, 17, 36, 35, 25, 31, 11, 38,\n        34,  5, 39, 28, 31,  5,  5, 28, 12, 13, 21, 25, 30, 19, 11, 23,\n        36, 23, 37, 38],\n       [16, 20, 13,  8, 32,  6, 38, 14,  6, 18, 30, 35, 34, 28, 28, 12,\n        24, 30,  6, 33, 16, 38, 38, 33, 31, 31, 16, 34, 22, 27, 25, 30,\n        16, 39, 35, 31, 19, 22, 15, 32, 30, 34, 31, 31, 20, 38, 23, 33,\n        14, 17, 18, 37, 37, 31, 18, 36, 39,  8, 28, 36, 11, 17,  7, 16,\n        20, 21, 10, 15, 12, 17, 22, 26, 12, 35, 34, 27, 18, 28, 31, 28,\n        31, 30, 26, 11, 14, 37, 22, 24, 25, 29, 25, 23, 35, 21, 12, 27,\n        17, 34, 24,  9],\n       [16, 20,  5, 24, 33, 22, 19, 12, 28, 31, 34,  5, 32, 33, 34, 35,\n        12, 10, 39, 26, 16, 21, 10, 39, 17, 21, 19, 16, 27,  6, 32, 35,\n        15,  9,  9, 20, 12,  7, 21, 25,  8,  7, 23, 12, 23, 29,  8, 39,\n         5, 23, 26, 10, 35,  9, 11,  7, 21,  5,  7, 16, 11, 18, 14, 13,\n        28, 30, 26, 23,  5, 24, 25,  8,  6, 34, 23, 33, 22, 18, 16, 32,\n        16, 31, 13, 17, 17, 38, 37, 24, 30, 26, 25, 25,  8, 28, 38, 22,\n        10,  5, 39, 10]])"
     },
     "execution_count": 219,
     "metadata": {},
     "output_type": "execute_result"
    }
   ],
   "source": [
    "ini_num"
   ],
   "metadata": {
    "collapsed": false,
    "ExecuteTime": {
     "end_time": "2024-03-31T06:52:50.663410Z",
     "start_time": "2024-03-31T06:52:50.649529Z"
    }
   },
   "id": "401f9ee0ba8dce68",
   "execution_count": 219
  },
  {
   "cell_type": "code",
   "outputs": [],
   "source": [
    "agent = Agent(3,100,ini_num,ini_action,100,0)"
   ],
   "metadata": {
    "collapsed": false,
    "ExecuteTime": {
     "end_time": "2024-03-31T06:52:51.860527Z",
     "start_time": "2024-03-31T06:52:51.855752Z"
    }
   },
   "id": "78cd0ec9dc7aaeef",
   "execution_count": 220
  },
  {
   "cell_type": "code",
   "outputs": [],
   "source": [
    "agent.run()"
   ],
   "metadata": {
    "collapsed": false,
    "ExecuteTime": {
     "end_time": "2024-03-31T06:52:53.289390Z",
     "start_time": "2024-03-31T06:52:53.104288Z"
    }
   },
   "id": "a7e01828571da66a",
   "execution_count": 221
  },
  {
   "cell_type": "code",
   "outputs": [],
   "source": [
    "import matplotlib.pyplot as plt "
   ],
   "metadata": {
    "collapsed": false,
    "ExecuteTime": {
     "end_time": "2024-03-31T06:52:53.556535Z",
     "start_time": "2024-03-31T06:52:53.547886Z"
    }
   },
   "id": "404affb9df70439d",
   "execution_count": 222
  },
  {
   "cell_type": "code",
   "outputs": [
    {
     "data": {
      "text/plain": "<matplotlib.collections.LineCollection at 0x1414917d0>"
     },
     "execution_count": 226,
     "metadata": {},
     "output_type": "execute_result"
    },
    {
     "data": {
      "text/plain": "<Figure size 640x480 with 1 Axes>",
      "image/png": "[encoded data removed]"
     },
     "metadata": {},
     "output_type": "display_data"
    }
   ],
   "source": [
    "plt.plot(agent.num_record[2][0:99][95])\n",
    "plt.hlines(48,0,100,color='red',ls = '--')\n",
    "plt.hlines(25,0,100,color='blue',ls='-.')"
   ],
   "metadata": {
    "collapsed": false,
    "ExecuteTime": {
     "end_time": "2024-03-31T06:54:54.586354Z",
     "start_time": "2024-03-31T06:54:54.511920Z"
    }
   },
   "id": "526533fa43eb2da0",
   "execution_count": 226
  },
  {
   "cell_type": "code",
   "outputs": [
    {
     "data": {
      "text/plain": "48.0"
     },
     "execution_count": 66,
     "metadata": {},
     "output_type": "execute_result"
    }
   ],
   "source": [
    "200/(1000/240)"
   ],
   "metadata": {
    "collapsed": false,
    "ExecuteTime": {
     "end_time": "2024-03-30T13:34:42.822341Z",
     "start_time": "2024-03-30T13:34:42.819040Z"
    }
   },
   "id": "3ca0b0404aa9eccd",
   "execution_count": 66
  },
  {
   "cell_type": "code",
   "outputs": [],
   "source": [
    "supply = []\n",
    "demand = []\n",
    "q = int(1600*1.5)\n",
    "jam = int(240*1.5)\n",
    "w = q/(jam-q/40)\n",
    "for i in range(0,jam):\n",
    "    k = i \n",
    "    supply.append(min(q,40*k))\n",
    "    demand.append(min(q,w*(jam-k)))\n",
    "# supply =max(0, min(self.q_max,1000*self.density * self.f_speed * self.dt / 3600)* self.length/1000)\n",
    "#     self.demand =max(0, min(self.q_max,1000*(self.jam_density - self.density) * self.wave_speed * self.dt / 3600) * self.length/1000)\n",
    "\n",
    "\n",
    "# self.q_max/(self.jam_density-self.q_max/self.f_speed)\n"
   ],
   "metadata": {
    "collapsed": false,
    "ExecuteTime": {
     "end_time": "2024-03-29T15:25:56.637644Z",
     "start_time": "2024-03-29T15:25:56.635318Z"
    }
   },
   "id": "8e570150a3172eb4",
   "execution_count": 343
  },
  {
   "cell_type": "code",
   "outputs": [
    {
     "data": {
      "text/plain": "[<matplotlib.lines.Line2D at 0x10b0a7830>]"
     },
     "execution_count": 344,
     "metadata": {},
     "output_type": "execute_result"
    },
    {
     "data": {
      "text/plain": "<Figure size 640x480 with 1 Axes>",
      "image/png": "[encoded data removed]"
     },
     "metadata": {},
     "output_type": "display_data"
    }
   ],
   "source": [
    "plt.plot(supply)\n",
    "\n",
    "plt.plot(demand)"
   ],
   "metadata": {
    "collapsed": false,
    "ExecuteTime": {
     "end_time": "2024-03-29T15:25:57.154755Z",
     "start_time": "2024-03-29T15:25:57.111629Z"
    }
   },
   "id": "db91f7b51e3ca874",
   "execution_count": 344
  },
  {
   "cell_type": "code",
   "outputs": [],
   "source": [],
   "metadata": {
    "collapsed": false,
    "ExecuteTime": {
     "end_time": "2024-03-29T15:15:25.492917Z",
     "start_time": "2024-03-29T15:15:25.491455Z"
    }
   },
   "id": "e8fa406dea4d2674",
   "execution_count": 323
  },
  {
   "cell_type": "code",
   "outputs": [],
   "source": [
    "class source:\n",
    "    def __init__(self,car_num,q_max=1600,f_speed = 40,length = 0.2,dt = 10):\n",
    "        self.car_num = car_num\n",
    "        self.length = length\n",
    "        self.q_max = q_max\n",
    "        self.f_speed = f_speed\n",
    "        self.density = self.car_num/self.length\n",
    "        self.dt = dt \n",
    "        self.supply = max(0, min(self.q_max,self.f_speed*self.density))*self.dt/3600 \n",
    "    def variable_update(self,input_flow,down_demand):\n",
    "            self.car_num = self.car_num + input_flow - min(self.supply, down_demand)\n",
    "            self.density = self.car_num/self.length\n",
    "            self.supply = max(0, min(self.q_max,self.f_speed*self.density))*self.dt/3600\n",
    "\n",
    "\n",
    "class sink:\n",
    "    def __init__(self):\n",
    "        self.car_num = 0\n",
    "        self.demand = 100000000000\n",
    "        \n",
    "        "
   ],
   "metadata": {
    "collapsed": false,
    "ExecuteTime": {
     "end_time": "2024-03-30T13:59:37.466661Z",
     "start_time": "2024-03-30T13:59:37.462427Z"
    }
   },
   "id": "b659419577d0f92f",
   "execution_count": 85
  },
  {
   "cell_type": "code",
   "outputs": [],
   "source": [],
   "metadata": {
    "collapsed": false
   },
   "id": "c6a845f178e32b27"
  }
 ],
 "metadata": {
  "kernelspec": {
   "display_name": "Python 3 (ipykernel)",
   "language": "python",
   "name": "python3"
  },
  "language_info": {
   "codemirror_mode": {
    "name": "ipython",
    "version": 3
   },
   "file_extension": ".py",
   "mimetype": "text/x-python",
   "name": "python",
   "nbconvert_exporter": "python",
   "pygments_lexer": "ipython3",
   "version": "3.11.5"
  }
 },
 "nbformat": 4,
 "nbformat_minor": 5
}
