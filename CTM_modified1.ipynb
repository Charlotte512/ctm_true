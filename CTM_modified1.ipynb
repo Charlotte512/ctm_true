{
 "cells": [
  {
   "cell_type": "code",
   "id": "7cc47966530baf53",
   "metadata": {
    "ExecuteTime": {
     "end_time": "2024-04-12T05:16:54.203740Z",
     "start_time": "2024-04-12T05:16:54.076824Z"
    }
   },
   "source": [
    "from math import exp \n",
    "import numpy as np\n",
    "from itertools import product\n",
    "from copy import deepcopy"
   ],
   "outputs": [],
   "execution_count": 1
  },
  {
   "cell_type": "code",
   "id": "294b7b4f8ebb976c",
   "metadata": {
    "ExecuteTime": {
     "end_time": "2024-04-12T06:51:38.023805Z",
     "start_time": "2024-04-12T06:51:38.000264Z"
    }
   },
   "source": [
    "class Cell:\n",
    "    def __init__(self,car_num = 0, av_num = 0, length = 0.2 , q_max = 1600, f_speed = 40, dt = 10, jam_density = 240, av_lane = 0,scale_down = 1):\n",
    "        \"\"\"\n",
    "        f_speed: km/h; length: km; jam_density: veh/km; q_max = veh/h\n",
    "        \"\"\"\n",
    "        self.car_num = car_num; self.av_num = av_num\n",
    "        if self.car_num == 0:\n",
    "            self.av_ratio = 0\n",
    "        else:\n",
    "            self.av_ratio = self.av_num/self.car_num\n",
    "\n",
    "        self.length = length; self.f_speed = f_speed; self.q_max = q_max*(1+0.5*self.av_ratio)\n",
    "        self.dt = dt; self.jam_density = jam_density*(1+0.5*self.av_ratio)\n",
    "        self.wave_speed = self.q_max/(self.jam_density-self.q_max/self.f_speed)\n",
    "        self.av_lane = av_lane; self.q_max = q_max*(1+0.5*self.av_ratio)\n",
    "        self.demand = 0; self.supply = 0; self.density = self.car_num/self.length\n",
    "        self.scale_down = scale_down; self.left_flow = 0\n",
    "        self.right_flow = 0; self.down_flow = 0\n",
    "        self.left_prob = 0; self.right_prob = 0\n",
    "        self.down_prob = 0; self.left_in = 0\n",
    "        self.right_in = 0; self.up_in = 0\n",
    "        self.exp_right_flow = 0 # 拟向右换道车辆数\n",
    "        self.exp_left_flow = 0 # 拟向左换道车辆数\n",
    "        self.exp_down_flow = 0 # 拟向下游的车辆数\n",
    "\n",
    "    def update_variable(self, left_num, right_num, down_num, right_av_lane, left_av_lane, down_av_lane):\n",
    "        \"\"\"\n",
    "        :param left_num: 左侧元胞车辆数\n",
    "        :param right_num: 右侧元胞车辆数\n",
    "        :param down_num: 下游元胞车辆数\n",
    "        :return: \n",
    "        \"\"\"\n",
    "        beta1 = -0.4; beta2 = 5; beta3 = -0.1; beta4 = 1\n",
    "        self.density = self.car_num/self.length\n",
    "        self.supply = max(0, min(self.q_max,self.f_speed*self.density))*self.dt/3600 # 这个改动较大\n",
    "        self.demand = max(0, min(self.q_max,self.wave_speed*(self.jam_density-self.density)))*self.dt/3600\n",
    "\n",
    "    \n",
    "        left_utility = beta1*(self.car_num-left_num)+beta2\n",
    "        right_utility = beta1*(self.car_num-right_num) + beta2  \n",
    "        down_utility = beta3*(self.car_num-down_num)  + beta4 - 0.4*max(0,16-down_num)\n",
    "\n",
    "        self.left_prob = exp(-left_utility)/(exp(-left_utility)+exp(-right_utility)+exp(-down_utility))\n",
    "        self.right_prob = exp(-right_utility)/(exp(-left_utility)+exp(-right_utility)+exp(-down_utility))\n",
    "        self.down_prob =  exp(-down_utility)/(exp(-left_utility)+exp(-right_utility)+exp(-down_utility))\n",
    "        # print(self.down_prob)\n",
    "        self.exp_down_flow = self.down_prob*self.supply\n",
    "        self.exp_right_flow = self.right_prob*self.supply # 本车道拟向右换道车辆数\n",
    "        self.exp_left_flow = self.left_prob*self.supply # 本车道拟向右换道车辆数\n",
    "        \n",
    "        if self.av_lane:\n",
    "            self.right_prob = 1-self.av_ratio\n",
    "            self.down_prob = self.av_ratio\n",
    "        if right_av_lane: # 此处假设只有一个车道是自动驾驶车道，当然也可以假设很多，按照比例分配即可，但是现实可能不太好操作\n",
    "            self.exp_right_flow = self.av_num\n",
    "        if left_av_lane:\n",
    "            self.exp_left_flow = self.av_num\n",
    "        \n",
    "        if down_av_lane: # 如果下游是自动驾驶车道，只有自动驾驶车才能往下走,剩下的车按比例换道\n",
    "            self.exp_down_flow = self.av_num\n",
    "            self.exp_right_flow = self.right_prob*(self.supply-self.av_num)\n",
    "            self.exp_left_flow = self.left_prob*(self.supply-self.av_num)\n",
    "\n",
    "\n",
    "    def update_car_num(self,up_out,down_demand,left_lane_up_out,left_lane_demand,right_lane_up_out,right_lane_demand,right_lane_exp_left_flow,left_lane_exp_right_flow,right_two_lane_exp_left_flow,left_two_lane_exp_right_flow,up_av_ratio, left_av_ratio, right_av_ratio):\n",
    "        \"\"\"\n",
    "        Args:\n",
    "            right_av_ratio: \n",
    "            up_out: 上游元胞想要出来的车辆数\n",
    "            down_demand: 下游元胞的需求\n",
    "            left_lane_up_out: 左侧上游想要直行的车辆数\n",
    "            left_lane_demand: 左侧元胞供给\n",
    "            right_lane_up_out: 右侧上游想要直行的车辆数\n",
    "            right_lane_demand: 右侧元胞供给\n",
    "            right_lane_exp_left_flow: 右侧想要变道的车辆数\n",
    "            left_lane_exp_right_flow: 左侧想要变道的车辆数\n",
    "            right_two_lane_exp_left_flow: 右侧第二个车道往右侧车道换道的车辆数\n",
    "            left_two_lane_exp_right_flow: 左侧第二个车道往左侧车道换道的车辆数\n",
    "            up_av_ratio: \n",
    "            left_av_ratio: \n",
    "\n",
    "        Returns:\n",
    "        \"\"\"\n",
    "        #-----------自动驾驶车道有所不同的点：\n",
    "        if self.av_lane:\n",
    "            down_demand  = min(down_demand,self.av_num)\n",
    "            \n",
    "        \n",
    "        \n",
    "        \n",
    "        # 三个cell进来的车辆数 上游cell 左侧车道的cell 右侧车道的cell\n",
    "        self.up_in = min(self.demand,up_out) # 当前车道上游元胞向下走的车辆数\n",
    "        if right_lane_exp_left_flow+left_lane_exp_right_flow>0:          \n",
    "            self.right_in = min(right_lane_exp_left_flow/(right_lane_exp_left_flow+left_lane_exp_right_flow)*(self.demand-self.up_in), right_lane_exp_left_flow)\n",
    "            self.left_in = min(left_lane_exp_right_flow/(right_lane_exp_left_flow+left_lane_exp_right_flow)*(self.demand-self.up_in), left_lane_exp_right_flow)\n",
    "        else:\n",
    "            self.right_in = 0; self.left_in = 0\n",
    "       # 需要根据有多少车换道、直行到当前cell来确定换道对supply的影响；目的：体现出换道多交通的负效用\n",
    "        if self.right_in+self.left_in+self.up_in>0:\n",
    "            lc_ratio = (self.right_in+ self.left_in)/(self.right_in+self.left_in+self.up_in)\n",
    "        else:\n",
    "            lc_ratio = 0\n",
    "        self.demand = self.demand * (1-lc_ratio*0.2) # 举例子\n",
    "      # --------------------------------------------------------------------\n",
    "        \n",
    "        \n",
    "        right_up_in = min(right_lane_demand, right_lane_up_out) # 右侧车道元胞直行车辆数\n",
    "        left_up_in = min(left_lane_demand, left_lane_up_out) # 左侧车道元胞直行车辆数\n",
    "\n",
    "        # 本cell朝三个方向出去的车辆数\n",
    "        self.down_flow = min(down_demand,self.down_prob*self.car_num)\n",
    "        if self.exp_right_flow+right_two_lane_exp_left_flow >0:\n",
    "            self.right_flow = min(self.exp_right_flow/(self.exp_right_flow+right_two_lane_exp_left_flow)*(right_lane_demand-right_up_in) , self.exp_right_flow)\n",
    "        else:\n",
    "            self.right_flow = 0\n",
    "        \n",
    "        if self.exp_left_flow+left_two_lane_exp_right_flow > 0:\n",
    "            self.left_flow = min(self.exp_left_flow/(self.exp_left_flow+left_two_lane_exp_right_flow)*(left_lane_demand-left_up_in) , self.exp_left_flow)\n",
    "        else:\n",
    "            self.left_flow = 0\n",
    "\n",
    "            \n",
    "    \n",
    "    # 更新该元胞内部车辆数\n",
    "        self.car_num = self.car_num + self.up_in + self.right_in + self.left_in - self.right_flow - self.down_flow - self.right_flow\n",
    "        \n",
    "        \n",
    "        if not self.av_lane:\n",
    "            self.av_num = (self.car_num-self.right_flow-self.down_flow-self.right_flow)*self.av_ratio + self.up_in*up_av_ratio + self.right_in*right_av_ratio + self.left_in*left_av_ratio \n",
    "        else:\n",
    "            self.av_num = (self.car_num-self.down_flow)*self.av_ratio + self.up_in*up_av_ratio + self.right_in\n",
    "\n",
    "        if self.car_num == 0:\n",
    "            self.av_ratio = 0\n",
    "        else:\n",
    "            self.av_ratio = self.av_num/self.car_num\n",
    "            \n",
    "        \n",
    "        self.wave_speed = self.q_max/(self.jam_density-self.q_max/self.f_speed)\n",
    "        self.q_max = self.q_max*(1+0.5*self.av_ratio)\n",
    "        # print(self.car_num)\n",
    "\n",
    "class source:\n",
    "    def __init__(self,car_num=30,av_num = 0, q_max=1600,f_speed = 40,length = 0.2,dt = 10,av_ratio = 0):\n",
    "            self.car_num = car_num\n",
    "            self.length = length\n",
    "            self.q_max = q_max\n",
    "            self.f_speed = f_speed\n",
    "            self.density = self.car_num/self.length\n",
    "            self.dt = dt\n",
    "            self.supply = max(0, min(self.q_max,self.f_speed*self.density))*self.dt/3600\n",
    "            self.exp_down_flow = self.supply # source只往下走，不换道，因此，期望能往下的流量就是他的供给\n",
    "            self.down_flow = self.supply # 实际的流量初始化是不知道的，是和下游相关的，需要update_variable\n",
    "            self.av_num = av_num\n",
    "            self.av_ratio = av_ratio\n",
    "        \n",
    "        \n",
    "    def update_variable(self,input_flow, av_input,down_demand):\n",
    "            self.down_flow = min(self.supply, down_demand)\n",
    "            self.car_num = self.car_num + input_flow - self.down_flow\n",
    "            self.av_num = self.av_num + av_input - self.down_flow*self.av_ratio\n",
    "            self.av_ratio = self.av_num/self.car_num\n",
    "            self.density = self.car_num/self.length\n",
    "            self.supply = max(0, min(self.q_max,self.f_speed*self.density))*self.dt/3600\n",
    "           \n",
    "        \n",
    "\n",
    "class sink:\n",
    "    def __init__(self):\n",
    "        self.car_num = 0\n",
    "        self.demand = 100000000000\n",
    "        self.av_ratio = 0\n",
    "        self.av_lane = 0\n",
    "        self.av_num = 0\n",
    "\n"
   ],
   "outputs": [],
   "execution_count": 194
  },
  {
   "cell_type": "code",
   "source": [
    "class Agent():\n",
    "    def __init__(self,lane_num, cell_num, ini_num, ini_av_num, ini_action, sim_time_step,sys_time,input,av_input): # 注意初始化的av_num\n",
    "        \"\"\"\n",
    "        :param lane_num: 研究的范围内多少条道路\n",
    "        :param cell_num: 研究范围内没条道路多少个cell\n",
    "        :param initial_num: 每一个cell一开始多少车辆数，比如我们仿真8:00-8:30，或者仿真8:30-9:00这个值不一样\n",
    "        :param initial_action: 这个是说的哪些segement是av dedicated lane\n",
    "        :param simulation_time: 仿真多少个时间步\n",
    "        :param input: 输入流量\n",
    "        \"\"\"\n",
    "        self.lane_num = lane_num\n",
    "        self.cell_num = cell_num\n",
    "        self.ini_num = ini_num\n",
    "        self.ini_action = ini_action\n",
    "        self.sim_time_step = sim_time_step\n",
    "        self.state1 = 0 # 这些状态自己定义哈\n",
    "        self.state2 = 0\n",
    "        self.state3 = 0\n",
    "        self.reward = 0 # reward自己定义\n",
    "        self.done = False # 是否结束\n",
    "        self.sys_time = sys_time\n",
    "        self.num_record = np.zeros([self.lane_num, self.cell_num,self.sim_time_step])\n",
    "        self.av_ratio_record  = np.zeros([self.lane_num, self.cell_num,self.sim_time_step])\n",
    "        self.av_num_record = np.zeros([self.lane_num, self.cell_num,self.sim_time_step])\n",
    "        self.input = input # input 应该是lane num * time step的东西\n",
    "        self.av_input = av_input\n",
    "\n",
    "    def run(self):\n",
    "        # 初始化网络----------------------------------------------------------------\n",
    "        Road = [[[] for j in range(self.cell_num)] for i in range(self.lane_num)]\n",
    "        for i,j in product(range(self.lane_num),range(self.cell_num-2)):\n",
    "            Road[i][j+1] = Cell(car_num = ini_num[i][j],av_lane=self.ini_action[i][j])\n",
    "            print(Road[0][j+1].av_lane)\n",
    "        for i in range(self.lane_num):\n",
    "            Road[i][0] = source(car_num=0,av_num=0)\n",
    "            Road[i][-1] = sink()\n",
    "        # -------------------------------------------------------------------------\n",
    "\n",
    "        for t in range(self.sim_time_step):\n",
    "            Road_copy = deepcopy(Road) # 在更新过程中有一些先后顺序，需要破坏Road的性质，因此先拷贝一份,因为要改变Road部分元素，所以要用deepcopy\n",
    "            for i,j in product(range(self.lane_num),range(self.cell_num)):\n",
    "                self.num_record[i][j][t] = Road_copy[i][j].car_num\n",
    "                self.av_ratio_record[i][j][t] = Road_copy[i][j].av_ratio\n",
    "                self.av_num_record[i][j][t] = Road_copy[i][j].av_num\n",
    "                \n",
    "            \n",
    "            for i in range(self.lane_num):\n",
    "                Road[i][0].update_variable(input_flow = input[i][t],down_demand = Road[i][1].demand,av_input = av_input[i][t]) # 此处用Road和Road_copy并无区别，暂且用Road\n",
    "                \n",
    "                for _j in range(self.cell_num-2):\n",
    "                    j = _j + 1\n",
    "                    if i == 0:\n",
    "                        Road[i][j].update_variable(left_num = 0,right_num=Road_copy[i+1][j].car_num,down_num=Road_copy[i][j+1].car_num,right_av_lane = Road_copy[i+1][j].av_lane,left_av_lane = 0,down_av_lane =  Road_copy[i][j+1].av_lane)\n",
    "                        \n",
    "                        Road[i][j].update_car_num(up_out = Road_copy[i][j-1].exp_down_flow,\n",
    "                                                                  down_demand = Road_copy[i][j+1].demand,\n",
    "                                                                  left_lane_up_out = 0,\n",
    "                                                                  left_lane_demand = 0,\n",
    "                                                                  right_lane_up_out = Road_copy[i+1][j-1].down_flow,\n",
    "                                                                  right_lane_demand = Road_copy[i+1][j].demand,\n",
    "                                                                  right_lane_exp_left_flow = Road_copy[i+1][j].exp_left_flow,\n",
    "                                                                  left_lane_exp_right_flow = 0,\n",
    "                                                                  right_two_lane_exp_left_flow = Road_copy[i+2][j].exp_left_flow,\n",
    "                                                                  left_two_lane_exp_right_flow = 0,\n",
    "                                                                  up_av_ratio = Road_copy[i][j-1].av_ratio,\n",
    "                                                                  left_av_ratio = 0,\n",
    "                                                                  right_av_ratio = Road_copy[i+1][j].av_ratio)\n",
    "                    if i == 1:\n",
    "                        Road[i][j].update_variable(left_num = Road_copy[i-1][j].car_num,right_num=Road_copy[i+1][j].car_num,down_num=Road_copy[i][j+1].car_num,right_av_lane = Road_copy[i+1][j].av_lane,left_av_lane = Road_copy[i-1][j].av_lane,down_av_lane =  Road_copy[i][j+1].av_lane)\n",
    "                        Road[i][j].update_car_num(up_out = Road_copy[i][j-1].exp_down_flow,\n",
    "                                                              down_demand = Road_copy[i][j+1].demand,\n",
    "                                                              left_lane_up_out = Road_copy[i-1][j-1].down_flow,\n",
    "                                                              left_lane_demand = Road_copy[i-1][j].demand,\n",
    "                                                              right_lane_up_out = Road_copy[i+1][j-1].down_flow,\n",
    "                                                              right_lane_demand = Road_copy[i+1][j].demand,\n",
    "                                                              right_lane_exp_left_flow = Road_copy[i+1][j].exp_left_flow,\n",
    "                                                              left_lane_exp_right_flow = Road_copy[i-1][j].exp_right_flow,\n",
    "                                                              right_two_lane_exp_left_flow = 0,\n",
    "                                                              left_two_lane_exp_right_flow = 0,\n",
    "                                                              up_av_ratio = Road_copy[i][j-1].av_ratio,\n",
    "                                                              left_av_ratio = Road_copy[i-1][j].av_ratio,\n",
    "                                                              right_av_ratio = Road_copy[i+1][j].av_ratio)\n",
    "                    if i == 2:\n",
    "                        Road[i][j].update_variable(left_num = Road_copy[i-1][j].car_num,right_num=0,down_num=Road_copy[i][j+1].car_num, right_av_lane =0,left_av_lane = Road_copy[i-1][j].av_lane,down_av_lane =  Road_copy[i][j+1].av_lane)\n",
    "                        Road[i][j].update_car_num(up_out = Road_copy[i][j-1].exp_down_flow,\n",
    "                                                              down_demand = Road_copy[i][j+1].demand,\n",
    "                                                              left_lane_up_out = Road_copy[i-1][j-1].down_flow,\n",
    "                                                              left_lane_demand = Road_copy[i-1][j].demand,\n",
    "                                                              right_lane_up_out = 0,\n",
    "                                                              right_lane_demand = 0,\n",
    "                                                              right_lane_exp_left_flow = 0,\n",
    "                                                              left_lane_exp_right_flow = Road_copy[i-1][j].exp_right_flow,\n",
    "                                                              right_two_lane_exp_left_flow = 0,\n",
    "                                                              left_two_lane_exp_right_flow = Road_copy[i-2][j].exp_right_flow,\n",
    "                                                              up_av_ratio = Road_copy[i][j-1].av_ratio,\n",
    "                                                              left_av_ratio = Road_copy[i-1][j].av_ratio,\n",
    "                                                              right_av_ratio = 0)\n",
    "                \n",
    "                    \n",
    "                        \n",
    "                        \n",
    "                    \n",
    "                 \n",
    "                    \n",
    "                    \n",
    "                    \n",
    "    \n",
    "                            \n",
    "                            \n",
    "                             "
   ],
   "metadata": {
    "collapsed": false,
    "ExecuteTime": {
     "end_time": "2024-04-12T06:51:38.156Z",
     "start_time": "2024-04-12T06:51:38.140598Z"
    }
   },
   "id": "e0cc8b2e35839cf9",
   "outputs": [],
   "execution_count": 195
  },
  {
   "cell_type": "code",
   "source": [
    "ini_num = np.random.poisson(40 , size=(3, 100))\n",
    "ini_av = np.random.poisson(20 , size=(3, 100))\n",
    "for i,j in product(range(3),range(100)):\n",
    "    ini_av[i][j] = min(ini_av[i][j],ini_num[i][j])\n",
    "    \n",
    "ini_action = np.zeros([3,100])\n",
    "for j in range(100):\n",
    "    ini_action[0][j] = 1\n",
    "    \n",
    "\n",
    "\n",
    "input = np.random.poisson(40 , size=(3, 100)) # 道路和时间\n",
    "\n",
    "p = 0.4\n",
    "av_input = np.random.poisson(25*p , size=(3, 100))\n",
    "for i,t in product(range(3),range(100)):\n",
    "    av_input[i][t] = min(av_input[i][t],input[i][t])\n",
    "\n",
    "\n"
   ],
   "metadata": {
    "collapsed": false,
    "ExecuteTime": {
     "end_time": "2024-04-12T06:51:38.257069Z",
     "start_time": "2024-04-12T06:51:38.252724Z"
    }
   },
   "id": "2f3034fcdd78e17e",
   "outputs": [],
   "execution_count": 196
  },
  {
   "metadata": {
    "ExecuteTime": {
     "end_time": "2024-04-12T06:51:38.354447Z",
     "start_time": "2024-04-12T06:51:38.351998Z"
    }
   },
   "cell_type": "code",
   "source": "ini_av[1][11]",
   "id": "9cfd2c26574352d1",
   "outputs": [
    {
     "data": {
      "text/plain": [
       "16"
      ]
     },
     "execution_count": 197,
     "metadata": {},
     "output_type": "execute_result"
    }
   ],
   "execution_count": 197
  },
  {
   "metadata": {
    "ExecuteTime": {
     "end_time": "2024-04-12T06:51:38.447194Z",
     "start_time": "2024-04-12T06:51:38.444368Z"
    }
   },
   "cell_type": "code",
   "source": "ini_num",
   "id": "f859e02ed3324345",
   "outputs": [
    {
     "data": {
      "text/plain": [
       "array([[43, 38, 43, 53, 39, 45, 36, 45, 45, 33, 48, 24, 43, 48, 52, 33,\n",
       "        38, 38, 29, 53, 33, 34, 43, 50, 29, 46, 48, 46, 37, 43, 53, 56,\n",
       "        43, 45, 42, 37, 42, 48, 37, 37, 40, 35, 51, 45, 38, 52, 35, 42,\n",
       "        39, 34, 39, 49, 39, 36, 36, 44, 27, 43, 49, 46, 41, 52, 49, 55,\n",
       "        29, 46, 33, 32, 34, 41, 50, 43, 30, 36, 41, 38, 31, 52, 38, 36,\n",
       "        51, 39, 34, 44, 37, 39, 35, 43, 36, 40, 43, 48, 38, 30, 36, 45,\n",
       "        26, 46, 37, 42],\n",
       "       [47, 41, 36, 39, 31, 37, 41, 38, 47, 38, 37, 45, 34, 44, 50, 35,\n",
       "        44, 37, 44, 37, 37, 43, 49, 48, 41, 51, 28, 42, 36, 32, 39, 45,\n",
       "        38, 49, 46, 29, 32, 49, 38, 35, 44, 31, 42, 36, 41, 41, 34, 44,\n",
       "        44, 40, 42, 63, 34, 50, 36, 38, 43, 48, 47, 41, 46, 50, 36, 39,\n",
       "        37, 50, 36, 38, 40, 48, 35, 41, 42, 24, 28, 40, 42, 31, 26, 56,\n",
       "        55, 36, 46, 42, 58, 41, 39, 35, 48, 39, 42, 41, 39, 36, 38, 50,\n",
       "        35, 35, 49, 40],\n",
       "       [25, 34, 49, 41, 41, 48, 40, 39, 35, 40, 42, 34, 38, 40, 38, 33,\n",
       "        35, 46, 44, 45, 43, 48, 36, 47, 44, 47, 32, 46, 33, 31, 49, 48,\n",
       "        35, 44, 40, 30, 35, 35, 35, 26, 35, 32, 31, 41, 39, 43, 42, 37,\n",
       "        37, 41, 43, 36, 39, 40, 42, 35, 43, 32, 26, 40, 32, 40, 58, 31,\n",
       "        44, 50, 32, 38, 38, 37, 36, 39, 32, 42, 42, 48, 42, 28, 41, 44,\n",
       "        46, 40, 40, 24, 57, 31, 36, 37, 33, 41, 41, 40, 44, 42, 35, 39,\n",
       "        46, 47, 42, 31]])"
      ]
     },
     "execution_count": 198,
     "metadata": {},
     "output_type": "execute_result"
    }
   ],
   "execution_count": 198
  },
  {
   "metadata": {
    "ExecuteTime": {
     "end_time": "2024-04-12T06:51:38.551685Z",
     "start_time": "2024-04-12T06:51:38.549633Z"
    }
   },
   "cell_type": "code",
   "source": "agent = Agent(lane_num=3,cell_num=100,ini_num = ini_num,ini_av_num=ini_av,ini_action = ini_action,sim_time_step=100,sys_time=0,input=input,av_input = av_input)\n",
   "id": "79f25cc15baad04b",
   "outputs": [],
   "execution_count": 199
  },
  {
   "cell_type": "code",
   "source": [
    "agent.run()"
   ],
   "metadata": {
    "collapsed": false,
    "ExecuteTime": {
     "end_time": "2024-04-12T06:51:39.620925Z",
     "start_time": "2024-04-12T06:51:38.634903Z"
    }
   },
   "id": "a7e01828571da66a",
   "outputs": [
    {
     "name": "stdout",
     "output_type": "stream",
     "text": [
      "1.0\n",
      "1.0\n",
      "1.0\n",
      "1.0\n",
      "1.0\n",
      "1.0\n",
      "1.0\n",
      "1.0\n",
      "1.0\n",
      "1.0\n",
      "1.0\n",
      "1.0\n",
      "1.0\n",
      "1.0\n",
      "1.0\n",
      "1.0\n",
      "1.0\n",
      "1.0\n",
      "1.0\n",
      "1.0\n",
      "1.0\n",
      "1.0\n",
      "1.0\n",
      "1.0\n",
      "1.0\n",
      "1.0\n",
      "1.0\n",
      "1.0\n",
      "1.0\n",
      "1.0\n",
      "1.0\n",
      "1.0\n",
      "1.0\n",
      "1.0\n",
      "1.0\n",
      "1.0\n",
      "1.0\n",
      "1.0\n",
      "1.0\n",
      "1.0\n",
      "1.0\n",
      "1.0\n",
      "1.0\n",
      "1.0\n",
      "1.0\n",
      "1.0\n",
      "1.0\n",
      "1.0\n",
      "1.0\n",
      "1.0\n",
      "1.0\n",
      "1.0\n",
      "1.0\n",
      "1.0\n",
      "1.0\n",
      "1.0\n",
      "1.0\n",
      "1.0\n",
      "1.0\n",
      "1.0\n",
      "1.0\n",
      "1.0\n",
      "1.0\n",
      "1.0\n",
      "1.0\n",
      "1.0\n",
      "1.0\n",
      "1.0\n",
      "1.0\n",
      "1.0\n",
      "1.0\n",
      "1.0\n",
      "1.0\n",
      "1.0\n",
      "1.0\n",
      "1.0\n",
      "1.0\n",
      "1.0\n",
      "1.0\n",
      "1.0\n",
      "1.0\n",
      "1.0\n",
      "1.0\n",
      "1.0\n",
      "1.0\n",
      "1.0\n",
      "1.0\n",
      "1.0\n",
      "1.0\n",
      "1.0\n",
      "1.0\n",
      "1.0\n",
      "1.0\n",
      "1.0\n",
      "1.0\n",
      "1.0\n",
      "1.0\n",
      "1.0\n",
      "1.0\n",
      "1.0\n",
      "1.0\n",
      "1.0\n",
      "1.0\n",
      "1.0\n",
      "1.0\n",
      "1.0\n",
      "1.0\n",
      "1.0\n",
      "1.0\n",
      "1.0\n",
      "1.0\n",
      "1.0\n",
      "1.0\n",
      "1.0\n",
      "1.0\n",
      "1.0\n",
      "1.0\n",
      "1.0\n",
      "1.0\n",
      "1.0\n",
      "1.0\n",
      "1.0\n",
      "1.0\n",
      "1.0\n",
      "1.0\n",
      "1.0\n",
      "1.0\n",
      "1.0\n",
      "1.0\n",
      "1.0\n",
      "1.0\n",
      "1.0\n",
      "1.0\n",
      "1.0\n",
      "1.0\n",
      "1.0\n",
      "1.0\n",
      "1.0\n",
      "1.0\n",
      "1.0\n",
      "1.0\n",
      "1.0\n",
      "1.0\n",
      "1.0\n",
      "1.0\n",
      "1.0\n",
      "1.0\n",
      "1.0\n",
      "1.0\n",
      "1.0\n",
      "1.0\n",
      "1.0\n",
      "1.0\n",
      "1.0\n",
      "1.0\n",
      "1.0\n",
      "1.0\n",
      "1.0\n",
      "1.0\n",
      "1.0\n",
      "1.0\n",
      "1.0\n",
      "1.0\n",
      "1.0\n",
      "1.0\n",
      "1.0\n",
      "1.0\n",
      "1.0\n",
      "1.0\n",
      "1.0\n",
      "1.0\n",
      "1.0\n",
      "1.0\n",
      "1.0\n",
      "1.0\n",
      "1.0\n",
      "1.0\n",
      "1.0\n",
      "1.0\n",
      "1.0\n",
      "1.0\n",
      "1.0\n",
      "1.0\n",
      "1.0\n",
      "1.0\n",
      "1.0\n",
      "1.0\n",
      "1.0\n",
      "1.0\n",
      "1.0\n",
      "1.0\n",
      "1.0\n",
      "1.0\n",
      "1.0\n",
      "1.0\n",
      "1.0\n",
      "1.0\n",
      "1.0\n",
      "1.0\n",
      "1.0\n",
      "1.0\n",
      "1.0\n",
      "1.0\n",
      "1.0\n",
      "1.0\n",
      "1.0\n",
      "1.0\n",
      "1.0\n",
      "1.0\n",
      "1.0\n",
      "1.0\n",
      "1.0\n",
      "1.0\n",
      "1.0\n",
      "1.0\n",
      "1.0\n",
      "1.0\n",
      "1.0\n",
      "1.0\n",
      "1.0\n",
      "1.0\n",
      "1.0\n",
      "1.0\n",
      "1.0\n",
      "1.0\n",
      "1.0\n",
      "1.0\n",
      "1.0\n",
      "1.0\n",
      "1.0\n",
      "1.0\n",
      "1.0\n",
      "1.0\n",
      "1.0\n",
      "1.0\n",
      "1.0\n",
      "1.0\n",
      "1.0\n",
      "1.0\n",
      "1.0\n",
      "1.0\n",
      "1.0\n",
      "1.0\n",
      "1.0\n",
      "1.0\n",
      "1.0\n",
      "1.0\n",
      "1.0\n",
      "1.0\n",
      "1.0\n",
      "1.0\n",
      "1.0\n",
      "1.0\n",
      "1.0\n",
      "1.0\n",
      "1.0\n",
      "1.0\n",
      "1.0\n",
      "1.0\n",
      "1.0\n",
      "1.0\n",
      "1.0\n",
      "1.0\n",
      "1.0\n",
      "1.0\n",
      "1.0\n",
      "1.0\n",
      "1.0\n",
      "1.0\n",
      "1.0\n",
      "1.0\n",
      "1.0\n",
      "1.0\n",
      "1.0\n",
      "1.0\n",
      "1.0\n",
      "1.0\n",
      "1.0\n",
      "1.0\n",
      "1.0\n",
      "1.0\n",
      "1.0\n",
      "1.0\n",
      "1.0\n",
      "1.0\n",
      "1.0\n",
      "1.0\n",
      "1.0\n",
      "1.0\n",
      "1.0\n",
      "1.0\n",
      "1.0\n",
      "1.0\n",
      "1.0\n"
     ]
    }
   ],
   "execution_count": 200
  },
  {
   "cell_type": "code",
   "source": [
    "import matplotlib.pyplot as plt "
   ],
   "metadata": {
    "collapsed": false,
    "ExecuteTime": {
     "end_time": "2024-04-12T06:51:39.623938Z",
     "start_time": "2024-04-12T06:51:39.621905Z"
    }
   },
   "id": "404affb9df70439d",
   "outputs": [],
   "execution_count": 201
  },
  {
   "cell_type": "code",
   "source": [
    "plt.plot(agent.av_ratio_record[0][0:99][90])\n",
    "# plt.hlines(48,0,100,color='red',ls = '--')\n",
    "# plt.hlines(25,0,100,color='blue',ls='-.')"
   ],
   "metadata": {
    "collapsed": false,
    "ExecuteTime": {
     "end_time": "2024-04-12T06:51:39.679504Z",
     "start_time": "2024-04-12T06:51:39.624769Z"
    }
   },
   "id": "526533fa43eb2da0",
   "outputs": [
    {
     "data": {
      "text/plain": [
       "[<matplotlib.lines.Line2D at 0x1524ddb50>]"
      ]
     },
     "execution_count": 202,
     "metadata": {},
     "output_type": "execute_result"
    },
    {
     "data": {
      "text/plain": [
       "<Figure size 640x480 with 1 Axes>"
      ],
      "image/png": "[encoded data removed]"
     },
     "metadata": {},
     "output_type": "display_data"
    }
   ],
   "execution_count": 202
  },
  {
   "cell_type": "code",
   "source": "agent.num_record[0]",
   "metadata": {
    "collapsed": false,
    "ExecuteTime": {
     "end_time": "2024-04-12T06:51:39.683714Z",
     "start_time": "2024-04-12T06:51:39.680782Z"
    }
   },
   "id": "3ca0b0404aa9eccd",
   "outputs": [
    {
     "data": {
      "text/plain": [
       "array([[   0.        ,   48.        ,   81.44444444, ..., 3761.76703799,\n",
       "        3816.95831892, 3856.14959985],\n",
       "       [  43.        ,   43.        ,   42.77777778, ...,   40.72152837,\n",
       "          40.72152837,   40.72152837],\n",
       "       [  38.        ,   38.        ,   36.44444456, ...,   34.87396872,\n",
       "          34.87396872,   34.87396872],\n",
       "       ...,\n",
       "       [  26.        ,   26.        ,   23.11111351, ...,   16.97692087,\n",
       "          16.97632961,   16.97571364],\n",
       "       [  46.        ,   46.        ,   43.11111588, ...,   41.1098715 ,\n",
       "          41.1098715 ,   41.10984991],\n",
       "       [   0.        ,    0.        ,    0.        , ...,    0.        ,\n",
       "           0.        ,    0.        ]])"
      ]
     },
     "execution_count": 203,
     "metadata": {},
     "output_type": "execute_result"
    }
   ],
   "execution_count": 203
  },
  {
   "metadata": {
    "ExecuteTime": {
     "end_time": "2024-04-12T06:52:02.402809Z",
     "start_time": "2024-04-12T06:52:02.399857Z"
    }
   },
   "cell_type": "code",
   "source": "agent.av_num_record[0]",
   "id": "c86a814ecdc1bae5",
   "outputs": [
    {
     "data": {
      "text/plain": [
       "array([[  0.        ,   8.        ,  13.90740741, ..., 957.38883283,\n",
       "        965.18300972, 972.97851131],\n",
       "       [  0.        ,   0.        ,   0.        , ...,   0.        ,\n",
       "          0.        ,   0.        ],\n",
       "       [  0.        ,   0.        ,   0.        , ...,   0.        ,\n",
       "          0.        ,   0.        ],\n",
       "       ...,\n",
       "       [  0.        ,   0.        ,   0.        , ...,   0.        ,\n",
       "          0.        ,   0.        ],\n",
       "       [  0.        ,   0.        ,   0.        , ...,   0.        ,\n",
       "          0.        ,   0.        ],\n",
       "       [  0.        ,   0.        ,   0.        , ...,   0.        ,\n",
       "          0.        ,   0.        ]])"
      ]
     },
     "execution_count": 206,
     "metadata": {},
     "output_type": "execute_result"
    }
   ],
   "execution_count": 206
  },
  {
   "cell_type": "code",
   "source": [
    "supply = []\n",
    "demand = []\n",
    "q = int(1600*1.5)\n",
    "jam = int(240*1.5)\n",
    "w = q/(jam-q/40)\n",
    "for i in range(0,jam):\n",
    "    k = i \n",
    "    supply.append(min(q,40*k))\n",
    "    demand.append(min(q,w*(jam-k)))\n",
    "# supply =max(0, min(self.q_max,1000*self.density * self.f_speed * self.dt / 3600)* self.length/1000)\n",
    "#     self.demand =max(0, min(self.q_max,1000*(self.jam_density - self.density) * self.wave_speed * self.dt / 3600) * self.length/1000)\n",
    "\n",
    "\n",
    "# self.q_max/(self.jam_density-self.q_max/self.f_speed)\n"
   ],
   "metadata": {
    "collapsed": false,
    "ExecuteTime": {
     "end_time": "2024-04-12T06:51:39.687189Z",
     "start_time": "2024-04-12T06:51:39.684455Z"
    }
   },
   "id": "8e570150a3172eb4",
   "outputs": [],
   "execution_count": 204
  },
  {
   "cell_type": "code",
   "source": [
    "plt.plot(supply)\n",
    "\n",
    "plt.plot(demand)"
   ],
   "metadata": {
    "collapsed": false,
    "ExecuteTime": {
     "end_time": "2024-04-12T06:51:40.744173Z",
     "start_time": "2024-04-12T06:51:40.661014Z"
    }
   },
   "id": "db91f7b51e3ca874",
   "outputs": [
    {
     "data": {
      "text/plain": [
       "[<matplotlib.lines.Line2D at 0x15258d400>]"
      ]
     },
     "execution_count": 205,
     "metadata": {},
     "output_type": "execute_result"
    },
    {
     "data": {
      "text/plain": [
       "<Figure size 640x480 with 1 Axes>"
      ],
      "image/png": "[encoded data removed]"
     },
     "metadata": {},
     "output_type": "display_data"
    }
   ],
   "execution_count": 205
  },
  {
   "cell_type": "code",
   "outputs": [],
   "source": [],
   "metadata": {
    "collapsed": false,
    "ExecuteTime": {
     "end_time": "2024-03-29T15:15:25.492917Z",
     "start_time": "2024-03-29T15:15:25.491455Z"
    }
   },
   "id": "e8fa406dea4d2674",
   "execution_count": 323
  },
  {
   "cell_type": "code",
   "outputs": [],
   "source": [
    "class source:\n",
    "    def __init__(self,car_num,q_max=1600,f_speed = 40,length = 0.2,dt = 10):\n",
    "        self.car_num = car_num\n",
    "        self.length = length\n",
    "        self.q_max = q_max\n",
    "        self.f_speed = f_speed\n",
    "        self.density = self.car_num/self.length\n",
    "        self.dt = dt \n",
    "        self.supply = max(0, min(self.q_max,self.f_speed*self.density))*self.dt/3600 \n",
    "    def variable_update(self,input_flow,down_demand):\n",
    "            self.car_num = self.car_num + input_flow - min(self.supply, down_demand)\n",
    "            self.density = self.car_num/self.length\n",
    "            self.supply = max(0, min(self.q_max,self.f_speed*self.density))*self.dt/3600\n",
    "\n",
    "\n",
    "class sink:\n",
    "    def __init__(self):\n",
    "        self.car_num = 0\n",
    "        self.demand = 100000000000\n",
    "        \n",
    "        "
   ],
   "metadata": {
    "collapsed": false,
    "ExecuteTime": {
     "end_time": "2024-03-30T13:59:37.466661Z",
     "start_time": "2024-03-30T13:59:37.462427Z"
    }
   },
   "id": "b659419577d0f92f",
   "execution_count": 85
  },
  {
   "cell_type": "code",
   "source": [
    "from copy import deepcopy\n",
    "a = [1,2,3]\n",
    "b = deepcopy(a)\n",
    "a[1] = 10"
   ],
   "metadata": {
    "collapsed": false,
    "ExecuteTime": {
     "end_time": "2024-04-11T09:17:26.621545Z",
     "start_time": "2024-04-11T09:17:26.618074Z"
    }
   },
   "id": "c6a845f178e32b27",
   "outputs": [],
   "execution_count": 8
  },
  {
   "metadata": {
    "ExecuteTime": {
     "end_time": "2024-04-11T09:17:27.805453Z",
     "start_time": "2024-04-11T09:17:27.802580Z"
    }
   },
   "cell_type": "code",
   "source": "print(b)",
   "id": "4c367096d26c021",
   "outputs": [
    {
     "name": "stdout",
     "output_type": "stream",
     "text": [
      "[1, 2, 3]\n"
     ]
    }
   ],
   "execution_count": 9
  },
  {
   "metadata": {},
   "cell_type": "code",
   "outputs": [],
   "execution_count": null,
   "source": "",
   "id": "cedec783dcfc0a99"
  }
 ],
 "metadata": {
  "kernelspec": {
   "display_name": "Python 3 (ipykernel)",
   "language": "python",
   "name": "python3"
  },
  "language_info": {
   "codemirror_mode": {
    "name": "ipython",
    "version": 3
   },
   "file_extension": ".py",
   "mimetype": "text/x-python",
   "name": "python",
   "nbconvert_exporter": "python",
   "pygments_lexer": "ipython3",
   "version": "3.11.5"
  }
 },
 "nbformat": 4,
 "nbformat_minor": 5
}
